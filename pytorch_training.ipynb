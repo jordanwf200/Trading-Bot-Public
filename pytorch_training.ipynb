{
 "cells": [
  {
   "cell_type": "code",
   "execution_count": 207,
   "id": "initial_id",
   "metadata": {
    "ExecuteTime": {
     "end_time": "2024-06-02T00:14:40.777233Z",
     "start_time": "2024-06-02T00:14:40.016327Z"
    },
    "collapsed": true
   },
   "outputs": [
    {
     "name": "stdout",
     "output_type": "stream",
     "text": [
      "Using device: mps\n"
     ]
    }
   ],
   "source": [
    "import torch\n",
    "import torch.nn as nn\n",
    "import numpy as np\n",
    "import pandas as pd\n",
    "from torch.utils.data import DataLoader, TensorDataset\n",
    "from tqdm import tqdm\n",
    "\n",
    "# Check for MPS availability and set the device\n",
    "device = torch.device(\"mps\") if torch.backends.mps.is_available() else torch.device(\"cpu\")\n",
    "print(f\"Using device: {device}\")"
   ]
  },
  {
   "cell_type": "code",
   "execution_count": 208,
   "id": "a08e2d07d7db4ff4",
   "metadata": {
    "ExecuteTime": {
     "start_time": "2024-06-02T00:14:40.778213Z"
    },
    "jupyter": {
     "is_executing": true
    }
   },
   "outputs": [],
   "source": [
    "# Load your data\n",
    "data = pd.read_csv('eth_usd_candles.csv')\n",
    "test_data = pd.read_csv('eth_2022_2023.csv')\n",
    "\n",
    "# Select multiple features\n",
    "features = data[['open', 'high', 'low', 'close']].values.astype(np.float32)\n",
    "features_test = test_data[['open', 'high', 'low', 'close']].values.astype(np.float32)\n",
    "\n",
    "# Normalize features\n",
    "mean = features.mean(axis=0)\n",
    "std = features.std(axis=0)\n",
    "features_normalized = (features - mean) / std\n",
    "\n",
    "#Normalize Test features\n",
    "mean_test = features_test.mean(axis=0)\n",
    "std_test = features_test.std(axis=0)\n",
    "features_normalized_test = (features_test - mean_test) / std_test\n",
    "\n",
    "# Convert to PyTorch tensor\n",
    "features_tensor = torch.tensor(features_normalized)\n",
    "features_tensor_test = torch.tensor(features_normalized_test)"
   ]
  },
  {
   "cell_type": "code",
   "execution_count": 209,
   "id": "b0402fadafb3ef65",
   "metadata": {
    "jupyter": {
     "is_executing": true
    }
   },
   "outputs": [],
   "source": [
    "# # Function to split data\n",
    "# def train_test_split(data, test_size=0.20):\n",
    "#     n_samples = len(data)\n",
    "#     split_point = int(n_samples * (1 - test_size))\n",
    "#     return data[:split_point], data[split_point:]"
   ]
  },
  {
   "cell_type": "code",
   "execution_count": 210,
   "id": "afa3c1d1044c6c63",
   "metadata": {
    "jupyter": {
     "is_executing": true
    }
   },
   "outputs": [],
   "source": [
    "# Split the normalized prices into training and test datasets\n",
    "# train_data, test_data = train_test_split(features_tensor)"
   ]
  },
  {
   "cell_type": "code",
   "execution_count": 211,
   "id": "c66bc0ac1b30f779",
   "metadata": {
    "jupyter": {
     "is_executing": true
    }
   },
   "outputs": [],
   "source": [
    "# Function to create sequences\n",
    "def create_sequences(data, seq_length):\n",
    "    xs, ys = [], []\n",
    "    for i in range(len(data) - seq_length):\n",
    "        x = data[i:i + seq_length]\n",
    "        y = data[i + seq_length, 3]\n",
    "        xs.append(x)\n",
    "        ys.append(y)\n",
    "    return torch.stack(xs), torch.stack(ys)"
   ]
  },
  {
   "cell_type": "code",
   "execution_count": 212,
   "id": "a9bdd6d6",
   "metadata": {},
   "outputs": [],
   "source": [
    "seq_length = 10  # Number of time steps to look back\n",
    "X_train, y_train = create_sequences(features_tensor, seq_length)\n",
    "X_test, y_test = create_sequences(features_tensor_test, seq_length)"
   ]
  },
  {
   "cell_type": "code",
   "execution_count": 213,
   "id": "45c6ec55",
   "metadata": {},
   "outputs": [],
   "source": [
    "# Create DataLoaders\n",
    "train_loader = DataLoader(TensorDataset(X_train, y_train), batch_size=64, shuffle=False)\n",
    "test_loader = DataLoader(TensorDataset(X_test, y_test), batch_size=64, shuffle=False)"
   ]
  },
  {
   "cell_type": "code",
   "execution_count": 214,
   "id": "f2a9311c",
   "metadata": {},
   "outputs": [],
   "source": [
    "# Define the LSTM model\n",
    "class LSTMModel(nn.Module):\n",
    "    def __init__(self, input_size=4, hidden_layer_size=100, output_size=1):\n",
    "        super(LSTMModel, self).__init__()\n",
    "        self.hidden_layer_size = hidden_layer_size\n",
    "        self.lstm = nn.LSTM(input_size, hidden_layer_size, batch_first=True)\n",
    "        self.linear = nn.Linear(hidden_layer_size, output_size)\n",
    "\n",
    "    def forward(self, input_seq):\n",
    "        lstm_out, _ = self.lstm(input_seq)\n",
    "        predictions = self.linear(lstm_out[:, -1])\n",
    "        return predictions\n",
    "\n",
    "model = LSTMModel().to(device)"
   ]
  },
  {
   "cell_type": "code",
   "execution_count": 215,
   "id": "4e69bcfe",
   "metadata": {},
   "outputs": [
    {
     "name": "stderr",
     "output_type": "stream",
     "text": [
      "Epoch 1:   0%|          | 0/2338 [00:00<?, ?batch/s]/opt/anaconda3/lib/python3.11/site-packages/torch/nn/modules/loss.py:533: UserWarning: Using a target size (torch.Size([64])) that is different to the input size (torch.Size([64, 1])). This will likely lead to incorrect results due to broadcasting. Please ensure they have the same size.\n",
      "  return F.mse_loss(input, target, reduction=self.reduction)\n",
      "Epoch 1: 100%|█████████▉| 2333/2338 [00:13<00:00, 171.03batch/s, loss=0.0322]  /opt/anaconda3/lib/python3.11/site-packages/torch/nn/modules/loss.py:533: UserWarning: Using a target size (torch.Size([6])) that is different to the input size (torch.Size([6, 1])). This will likely lead to incorrect results due to broadcasting. Please ensure they have the same size.\n",
      "  return F.mse_loss(input, target, reduction=self.reduction)\n",
      "Epoch 1: 100%|██████████| 2338/2338 [00:13<00:00, 175.08batch/s, loss=0.0271]\n",
      "Epoch 2: 100%|██████████| 2338/2338 [00:12<00:00, 184.86batch/s, loss=0.0252]  \n",
      "Epoch 3: 100%|██████████| 2338/2338 [00:12<00:00, 184.19batch/s, loss=0.0192]  \n",
      "Epoch 4: 100%|██████████| 2338/2338 [00:12<00:00, 186.20batch/s, loss=0.0158]  \n",
      "Epoch 5: 100%|██████████| 2338/2338 [00:12<00:00, 182.06batch/s, loss=0.0144]  \n",
      "Epoch 6: 100%|██████████| 2338/2338 [00:12<00:00, 184.67batch/s, loss=0.0136]  \n",
      "Epoch 7: 100%|██████████| 2338/2338 [00:12<00:00, 187.89batch/s, loss=0.0114]  \n",
      "Epoch 8: 100%|██████████| 2338/2338 [00:12<00:00, 190.19batch/s, loss=0.00864] \n",
      "Epoch 9: 100%|██████████| 2338/2338 [00:12<00:00, 190.65batch/s, loss=0.0102]  \n",
      "Epoch 10: 100%|██████████| 2338/2338 [00:12<00:00, 191.65batch/s, loss=0.01]    \n",
      "Epoch 11: 100%|██████████| 2338/2338 [00:12<00:00, 189.08batch/s, loss=0.0081]  \n",
      "Epoch 12: 100%|██████████| 2338/2338 [00:12<00:00, 191.29batch/s, loss=0.00876] \n",
      "Epoch 13: 100%|██████████| 2338/2338 [00:12<00:00, 191.48batch/s, loss=0.00963] \n",
      "Epoch 14: 100%|██████████| 2338/2338 [00:12<00:00, 191.19batch/s, loss=0.00777] \n",
      "Epoch 15: 100%|██████████| 2338/2338 [00:12<00:00, 191.52batch/s, loss=0.00636] \n",
      "Epoch 16: 100%|██████████| 2338/2338 [00:12<00:00, 189.29batch/s, loss=0.00536] \n",
      "Epoch 17: 100%|██████████| 2338/2338 [00:12<00:00, 191.89batch/s, loss=0.00489] \n",
      "Epoch 18: 100%|██████████| 2338/2338 [00:12<00:00, 191.56batch/s, loss=0.00444] \n",
      "Epoch 19: 100%|██████████| 2338/2338 [00:12<00:00, 191.30batch/s, loss=0.00373] \n",
      "Epoch 20: 100%|██████████| 2338/2338 [00:12<00:00, 191.47batch/s, loss=0.00341] \n",
      "Epoch 21: 100%|██████████| 2338/2338 [00:12<00:00, 191.65batch/s, loss=0.00422] \n",
      "Epoch 22: 100%|██████████| 2338/2338 [00:12<00:00, 187.24batch/s, loss=0.00285] \n",
      "Epoch 23: 100%|██████████| 2338/2338 [00:13<00:00, 178.43batch/s, loss=0.00281] \n",
      "Epoch 24: 100%|██████████| 2338/2338 [00:12<00:00, 184.05batch/s, loss=0.00262] \n",
      "Epoch 25: 100%|██████████| 2338/2338 [00:13<00:00, 175.17batch/s, loss=0.00338] \n",
      "Epoch 26: 100%|██████████| 2338/2338 [00:13<00:00, 176.63batch/s, loss=0.00308] \n",
      "Epoch 27: 100%|██████████| 2338/2338 [00:12<00:00, 181.76batch/s, loss=0.00343] \n",
      "Epoch 28: 100%|██████████| 2338/2338 [00:13<00:00, 176.38batch/s, loss=0.0039]  \n",
      "Epoch 29: 100%|██████████| 2338/2338 [00:13<00:00, 174.53batch/s, loss=0.00375] \n",
      "Epoch 30: 100%|██████████| 2338/2338 [00:12<00:00, 185.06batch/s, loss=0.00418] \n",
      "Epoch 31: 100%|██████████| 2338/2338 [00:12<00:00, 182.91batch/s, loss=0.00451] \n",
      "Epoch 32: 100%|██████████| 2338/2338 [00:12<00:00, 182.60batch/s, loss=0.00383] \n",
      "Epoch 33: 100%|██████████| 2338/2338 [00:12<00:00, 183.87batch/s, loss=0.0046]  \n",
      "Epoch 34: 100%|██████████| 2338/2338 [00:12<00:00, 185.90batch/s, loss=0.00425] \n",
      "Epoch 35: 100%|██████████| 2338/2338 [00:12<00:00, 182.61batch/s, loss=0.00367] \n",
      "Epoch 36: 100%|██████████| 2338/2338 [00:12<00:00, 183.82batch/s, loss=0.00344] \n",
      "Epoch 37: 100%|██████████| 2338/2338 [00:14<00:00, 159.50batch/s, loss=0.00267] \n",
      "Epoch 38: 100%|██████████| 2338/2338 [00:12<00:00, 186.34batch/s, loss=0.00235] \n",
      "Epoch 39: 100%|██████████| 2338/2338 [00:12<00:00, 189.47batch/s, loss=0.00207] \n",
      "Epoch 40: 100%|██████████| 2338/2338 [00:12<00:00, 186.29batch/s, loss=0.00193] \n",
      "Epoch 41: 100%|██████████| 2338/2338 [00:12<00:00, 180.66batch/s, loss=0.00187] \n",
      "Epoch 42: 100%|██████████| 2338/2338 [00:12<00:00, 186.35batch/s, loss=0.002]   \n",
      "Epoch 43: 100%|██████████| 2338/2338 [00:12<00:00, 180.80batch/s, loss=0.00197] \n",
      "Epoch 44: 100%|██████████| 2338/2338 [00:12<00:00, 181.34batch/s, loss=0.00211] \n",
      "Epoch 45: 100%|██████████| 2338/2338 [00:13<00:00, 177.80batch/s, loss=0.00197] \n",
      "Epoch 46: 100%|██████████| 2338/2338 [00:12<00:00, 183.41batch/s, loss=0.00213] \n",
      "Epoch 47: 100%|██████████| 2338/2338 [00:12<00:00, 191.18batch/s, loss=0.00211] \n",
      "Epoch 48: 100%|██████████| 2338/2338 [00:12<00:00, 180.58batch/s, loss=0.00208] \n",
      "Epoch 49: 100%|██████████| 2338/2338 [00:13<00:00, 179.22batch/s, loss=0.00217] \n",
      "Epoch 50: 100%|██████████| 2338/2338 [00:13<00:00, 175.64batch/s, loss=0.00197] \n"
     ]
    }
   ],
   "source": [
    "# Training function\n",
    "def train_model(model, train_loader, epochs=50):\n",
    "    model.train()\n",
    "    criterion = nn.MSELoss()\n",
    "    optimizer = torch.optim.Adam(model.parameters(), lr=0.001)\n",
    "\n",
    "    for epoch in range(epochs):\n",
    "        with tqdm(train_loader, unit=\"batch\") as tepoch:\n",
    "            for seq, labels in tepoch:\n",
    "                tepoch.set_description(f\"Epoch {epoch + 1}\")\n",
    "                \n",
    "                seq, labels = seq.to(device), labels.to(device)\n",
    "                optimizer.zero_grad()\n",
    "                y_pred = model(seq)\n",
    "                loss = criterion(y_pred, labels)\n",
    "                loss.backward()\n",
    "                optimizer.step()\n",
    "                \n",
    "                tepoch.set_postfix(loss=loss.item())\n",
    "\n",
    "# Train the model\n",
    "train_model(model, train_loader)"
   ]
  },
  {
   "cell_type": "code",
   "execution_count": 216,
   "id": "d0080f43",
   "metadata": {},
   "outputs": [],
   "source": [
    "# Evaluate the model\n",
    "def evaluate_model(model, test_loader):\n",
    "    model.eval()\n",
    "    predictions = []\n",
    "    actuals = []\n",
    "    with torch.no_grad():\n",
    "        for seq, labels in test_loader:\n",
    "            seq = seq.to(device)\n",
    "            output = model(seq)\n",
    "            predictions.extend(output.cpu().numpy())\n",
    "            actuals.extend(labels.cpu().numpy())\n",
    "\n",
    "    return predictions, actuals\n",
    "\n",
    "predictions, actuals = evaluate_model(model, test_loader)"
   ]
  },
  {
   "cell_type": "code",
   "execution_count": 225,
   "id": "e5314244",
   "metadata": {},
   "outputs": [
    {
     "data": {
      "image/png": "[encoded data removed]",
      "text/plain": [
       "<Figure size 1200x600 with 1 Axes>"
      ]
     },
     "metadata": {},
     "output_type": "display_data"
    }
   ],
   "source": [
    "import numpy as np\n",
    "import matplotlib.pyplot as plt\n",
    "\n",
    "predictions_array = np.array(predictions).flatten()  # Model's predictions\n",
    "actuals_array = np.array(actuals).flatten()          # Actual values for comparison\n",
    "\n",
    "# Mean and std deviation used for normalization\n",
    "mean = features.mean(axis=0)[3]\n",
    "std = features.std(axis=0)[3]\n",
    "\n",
    "# Reverse standardization\n",
    "predictions_array = predictions_array * std + mean\n",
    "actuals_array = actuals_array * std + mean\n",
    "\n",
    "# Create a plot\n",
    "plt.figure(figsize=(12, 6))\n",
    "plt.plot(actuals_array, label='Actual Data', color='blue', marker='o')\n",
    "plt.plot(predictions_array, label='Predicted Data', color='red', linestyle='dashed', marker='x')\n",
    "plt.title('Comparison of Actual and Predicted Values')\n",
    "plt.xlabel('Time Step')\n",
    "plt.ylabel('Price')\n",
    "plt.legend()\n",
    "plt.show()\n"
   ]
  },
  {
   "cell_type": "code",
   "execution_count": 218,
   "id": "2cec2b0c",
   "metadata": {},
   "outputs": [
    {
     "data": {
      "text/html": [
       "<div>\n",
       "<style scoped>\n",
       "    .dataframe tbody tr th:only-of-type {\n",
       "        vertical-align: middle;\n",
       "    }\n",
       "\n",
       "    .dataframe tbody tr th {\n",
       "        vertical-align: top;\n",
       "    }\n",
       "\n",
       "    .dataframe thead th {\n",
       "        text-align: right;\n",
       "    }\n",
       "</style>\n",
       "<table border=\"1\" class=\"dataframe\">\n",
       "  <thead>\n",
       "    <tr style=\"text-align: right;\">\n",
       "      <th></th>\n",
       "      <th>low</th>\n",
       "      <th>high</th>\n",
       "      <th>open</th>\n",
       "      <th>close</th>\n",
       "      <th>volume</th>\n",
       "    </tr>\n",
       "  </thead>\n",
       "  <tbody>\n",
       "    <tr>\n",
       "      <th>low</th>\n",
       "      <td>1.000000</td>\n",
       "      <td>0.999978</td>\n",
       "      <td>0.999985</td>\n",
       "      <td>0.999989</td>\n",
       "      <td>-0.046525</td>\n",
       "    </tr>\n",
       "    <tr>\n",
       "      <th>high</th>\n",
       "      <td>0.999978</td>\n",
       "      <td>1.000000</td>\n",
       "      <td>0.999989</td>\n",
       "      <td>0.999990</td>\n",
       "      <td>-0.041833</td>\n",
       "    </tr>\n",
       "    <tr>\n",
       "      <th>open</th>\n",
       "      <td>0.999985</td>\n",
       "      <td>0.999989</td>\n",
       "      <td>1.000000</td>\n",
       "      <td>0.999982</td>\n",
       "      <td>-0.043811</td>\n",
       "    </tr>\n",
       "    <tr>\n",
       "      <th>close</th>\n",
       "      <td>0.999989</td>\n",
       "      <td>0.999990</td>\n",
       "      <td>0.999982</td>\n",
       "      <td>1.000000</td>\n",
       "      <td>-0.044038</td>\n",
       "    </tr>\n",
       "    <tr>\n",
       "      <th>volume</th>\n",
       "      <td>-0.046525</td>\n",
       "      <td>-0.041833</td>\n",
       "      <td>-0.043811</td>\n",
       "      <td>-0.044038</td>\n",
       "      <td>1.000000</td>\n",
       "    </tr>\n",
       "  </tbody>\n",
       "</table>\n",
       "</div>"
      ],
      "text/plain": [
       "             low      high      open     close    volume\n",
       "low     1.000000  0.999978  0.999985  0.999989 -0.046525\n",
       "high    0.999978  1.000000  0.999989  0.999990 -0.041833\n",
       "open    0.999985  0.999989  1.000000  0.999982 -0.043811\n",
       "close   0.999989  0.999990  0.999982  1.000000 -0.044038\n",
       "volume -0.046525 -0.041833 -0.043811 -0.044038  1.000000"
      ]
     },
     "execution_count": 218,
     "metadata": {},
     "output_type": "execute_result"
    }
   ],
   "source": [
    "data.corr(numeric_only=True)"
   ]
  },
  {
   "cell_type": "code",
   "execution_count": 219,
   "id": "211a4603",
   "metadata": {},
   "outputs": [],
   "source": [
    "# Save the model state dictionary\n",
    "torch.save(model.state_dict(), 'model.pth')"
   ]
  },
  {
   "cell_type": "code",
   "execution_count": 226,
   "id": "cb99efa5",
   "metadata": {},
   "outputs": [],
   "source": []
  },
  {
   "cell_type": "code",
   "execution_count": 232,
   "id": "d4064f90",
   "metadata": {},
   "outputs": [
    {
     "name": "stdout",
     "output_type": "stream",
     "text": [
      "Expected number of intervals: 105120\n"
     ]
    }
   ],
   "source": [
    "import pandas as pd\n",
    "\n",
    "# Generate timestamps every 5 minutes from 2022-01-01 to just before 2023-01-01\n",
    "start_date = \"2022-01-01 00:00:00\"\n",
    "end_date = \"2023-01-01 00:00:00\"\n",
    "timestamps = pd.date_range(start=start_date, end=end_date, freq='5T')\n",
    "\n",
    "# Remove the last timestamp if it exactly equals the end_date\n",
    "if timestamps[-1] == pd.Timestamp(end_date):\n",
    "    timestamps = timestamps[:-1]\n",
    "\n",
    "# Convert to string if needed (depending on how your DB expects timestamp)\n",
    "timestamps = timestamps.strftime('%Y-%m-%d %H:%M:%S').tolist()\n",
    "\n",
    "# Printing number of intervals\n",
    "print(f\"Expected number of intervals: {len(timestamps)}\")\n"
   ]
  },
  {
   "cell_type": "code",
   "execution_count": 240,
   "id": "5ce12a1d",
   "metadata": {},
   "outputs": [],
   "source": [
    "import numpy as np\n",
    "\n",
    "predictions_normalized = np.array(predictions).flatten()\n",
    "predictions = predictions_normalized * std + mean  # Reverse standardization\n"
   ]
  },
  {
   "cell_type": "code",
   "execution_count": 244,
   "id": "c95c472c",
   "metadata": {},
   "outputs": [
    {
     "name": "stdout",
     "output_type": "stream",
     "text": [
      "Number of timestamps: 105474\n",
      "Number of predictions: 105474\n",
      "First timestamp: 2022-01-01 00:00:00\n"
     ]
    }
   ],
   "source": [
    "import pandas as pd\n",
    "\n",
    "# Load your data\n",
    "data = pd.read_csv('eth_2022_2023.csv')\n",
    "\n",
    "timestamps = data['time'].tolist()  # Convert the timestamp column to a list\n",
    "trimmed_timestamps = timestamps[:-10]  # This removes the last 10 elements\n",
    "\n",
    "print(f\"Number of timestamps: {len(trimmed_timestamps)}\")\n",
    "print(f\"Number of predictions: {len(predictions)}\")\n",
    "\n",
    "print(f\"First timestamp: {trimmed_timestamps[0]}\")"
   ]
  },
  {
   "cell_type": "code",
   "execution_count": null,
   "id": "34e46ad3",
   "metadata": {},
   "outputs": [],
   "source": []
  },
  {
   "cell_type": "code",
   "execution_count": 245,
   "id": "2d3f838a",
   "metadata": {},
   "outputs": [],
   "source": [
    "import psycopg2\n",
    "\n",
    "def append_to_postgres(cur, time, close):\n",
    "    cur.execute(\"INSERT INTO eth_model_predictions_2022_2023(time, close) VALUES (%s, %s)\",\n",
    "                (time, close))\n",
    "\n",
    "# Database configuration\n",
    "conn = psycopg2.connect(\n",
    "    database=\"ethereum\", \n",
    "    user=\"postgres\", \n",
    "    password=\"PASSWORD\", \n",
    "    host=\"localhost\", \n",
    "    port=\"5432\"\n",
    ")\n",
    "cur = conn.cursor()\n",
    "\n",
    "# Insert data into the database\n",
    "for time, close in zip(trimmed_timestamps, predictions):\n",
    "    # Ensure 'close' is a native Python float\n",
    "    close = float(close)  # Convert NumPy float32 to native Python float\n",
    "    append_to_postgres(cur, time, close)\n",
    "\n",
    "\n",
    "# Commit changes and close connection\n",
    "conn.commit()\n",
    "cur.close()\n",
    "conn.close()\n"
   ]
  },
  {
   "cell_type": "code",
   "execution_count": null,
   "id": "1b7e4e6e",
   "metadata": {},
   "outputs": [],
   "source": []
  }
 ],
 "metadata": {
  "kernelspec": {
   "display_name": "Python 3",
   "language": "python",
   "name": "python3"
  },
  "language_info": {
   "codemirror_mode": {
    "name": "ipython",
    "version": 3
   },
   "file_extension": ".py",
   "mimetype": "text/x-python",
   "name": "python",
   "nbconvert_exporter": "python",
   "pygments_lexer": "ipython3",
   "version": "3.11.7"
  }
 },
 "nbformat": 4,
 "nbformat_minor": 5
}
